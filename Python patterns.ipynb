{
 "cells": [
  {
   "cell_type": "markdown",
   "id": "6e24324d",
   "metadata": {},
   "source": [
    "# Python patterns"
   ]
  },
  {
   "cell_type": "code",
   "execution_count": 73,
   "id": "5171da66",
   "metadata": {},
   "outputs": [
    {
     "name": "stdout",
     "output_type": "stream",
     "text": [
      "\n",
      "1\n",
      "22\n",
      "333\n",
      "4444\n",
      "55555\n"
     ]
    }
   ],
   "source": [
    "for i in range(6):\n",
    "    for j in range(i):\n",
    "        print(i, end='')\n",
    "    print(')"
   ]
  },
  {
   "cell_type": "code",
   "execution_count": 29,
   "id": "3420b778",
   "metadata": {},
   "outputs": [
    {
     "name": "stdout",
     "output_type": "stream",
     "text": [
      "55555\n",
      "4444\n",
      "333\n",
      "22\n",
      "1\n"
     ]
    }
   ],
   "source": [
    "for i in range(5, 0, -1):\n",
    "    for j in range(i):\n",
    "        print(i, end='')\n",
    "    print('')"
   ]
  },
  {
   "cell_type": "code",
   "execution_count": 36,
   "id": "fbb34105",
   "metadata": {},
   "outputs": [
    {
     "name": "stdout",
     "output_type": "stream",
     "text": [
      "\n",
      "* \n",
      "* * \n",
      "* * * \n",
      "* * * * \n",
      "* * * * * \n",
      "* * * * \n",
      "* * * \n",
      "* * \n",
      "* \n"
     ]
    }
   ],
   "source": [
    "for i in range(6):\n",
    "    for j in range(i):\n",
    "        print('* ', end='')\n",
    "    print('')\n",
    "for i in range(4, 0, -1):\n",
    "    for j in range(i):\n",
    "        print('* ', end='')\n",
    "    print('')"
   ]
  },
  {
   "cell_type": "code",
   "execution_count": 55,
   "id": "a5c99be9",
   "metadata": {},
   "outputs": [
    {
     "name": "stdout",
     "output_type": "stream",
     "text": [
      "1\n",
      "12\n",
      "123\n",
      "1234\n",
      "12345\n",
      "123456\n",
      "12345\n",
      "1234\n",
      "123\n",
      "12\n",
      "1\n"
     ]
    }
   ],
   "source": [
    "for i in range(1,7):\n",
    "    for j in range(1,i+1):\n",
    "        print(j , end = '')\n",
    "    print('')\n",
    "for i in range(5, 0 ,-1):\n",
    "    for j in range(1,i+1):\n",
    "        print(j , end = '')\n",
    "    print('')"
   ]
  },
  {
   "cell_type": "code",
   "execution_count": 53,
   "id": "edca8b8b",
   "metadata": {},
   "outputs": [
    {
     "name": "stdout",
     "output_type": "stream",
     "text": [
      "12345\n",
      "1234\n",
      "123\n",
      "12\n",
      "1\n"
     ]
    }
   ],
   "source": [
    "for i in range(5, 0 ,-1):\n",
    "    for j in range(1,i+1):\n",
    "        print(j, end = '')\n",
    "    print('')"
   ]
  },
  {
   "cell_type": "code",
   "execution_count": 80,
   "id": "cd2654a8",
   "metadata": {},
   "outputs": [
    {
     "name": "stdout",
     "output_type": "stream",
     "text": [
      "  *\n",
      "    *\n",
      "      *\n",
      "        *\n",
      "          *\n",
      "            *\n",
      "              *\n",
      "                *\n",
      "                  *\n"
     ]
    }
   ],
   "source": [
    "for i in range(1,10):\n",
    "    for j in range(i):\n",
    "        print(' ', end=' ')\n",
    "    print('*')"
   ]
  },
  {
   "cell_type": "code",
   "execution_count": 7,
   "id": "c95dd79b",
   "metadata": {},
   "outputs": [
    {
     "name": "stdout",
     "output_type": "stream",
     "text": [
      "******\n",
      "******\n",
      "******\n",
      "******\n",
      "******\n",
      "******\n"
     ]
    }
   ],
   "source": [
    "dim = 6\n",
    "\n",
    "for i in range(dim):\n",
    "    for j in range(dim):\n",
    "        print('*', end = '')\n",
    "    print('')"
   ]
  },
  {
   "cell_type": "markdown",
   "id": "82ba91ac",
   "metadata": {},
   "source": [
    "### Creating a cross"
   ]
  },
  {
   "cell_type": "code",
   "execution_count": 19,
   "id": "c0fcecd5",
   "metadata": {},
   "outputs": [
    {
     "name": "stdout",
     "output_type": "stream",
     "text": [
      "* * * * * * * \n",
      "*  *  *  *  *  *  *  \n",
      "*   *   *   *   *   *   *   \n",
      "*    *    *    *    *    *    *    \n",
      "*     *     *     *     *     *     *     \n",
      "*      *      *      *      *      *      *      \n",
      "*       *       *       *       *       *       *       \n"
     ]
    }
   ],
   "source": [
    "dim = 7\n",
    "\n",
    "for i in range(dim):\n",
    "    for j in range(dim):\n",
    "        print('*',i*' ', end = '')\n",
    "    print('')"
   ]
  },
  {
   "cell_type": "code",
   "execution_count": 28,
   "id": "aa96b2f5",
   "metadata": {},
   "outputs": [
    {
     "name": "stdout",
     "output_type": "stream",
     "text": [
      "1 6\n",
      "2 5\n",
      "3 4\n",
      "3 4\n",
      "2 5\n",
      "1 6\n"
     ]
    }
   ],
   "source": [
    "dim = 7 \n",
    "for i in range(1,dim):\n",
    "    print(min(i,dim-i),max(i,dim-i))\n",
    "    "
   ]
  },
  {
   "cell_type": "code",
   "execution_count": 41,
   "id": "343320cf",
   "metadata": {},
   "outputs": [
    {
     "name": "stdout",
     "output_type": "stream",
     "text": [
      "    *                    *\n",
      "\n",
      "       *              *\n",
      "\n",
      "          *        *\n",
      "\n",
      "             *  *\n",
      "\n",
      "          *        *\n",
      "\n",
      "       *              *\n",
      "\n",
      "    *                    *\n",
      "\n"
     ]
    }
   ],
   "source": [
    "dim = 8\n",
    "for i in range(1,dim):\n",
    "    a=min(i,dim-i)\n",
    "    b=max(i,dim-i)\n",
    "    print(a*'   ','*',(b-a)*'   ','*')\n",
    "    print()\n",
    "    "
   ]
  },
  {
   "cell_type": "code",
   "execution_count": null,
   "id": "11ef4a70",
   "metadata": {},
   "outputs": [],
   "source": []
  }
 ],
 "metadata": {
  "kernelspec": {
   "display_name": "Python 3",
   "language": "python",
   "name": "python3"
  },
  "language_info": {
   "codemirror_mode": {
    "name": "ipython",
    "version": 3
   },
   "file_extension": ".py",
   "mimetype": "text/x-python",
   "name": "python",
   "nbconvert_exporter": "python",
   "pygments_lexer": "ipython3",
   "version": "3.8.8"
  }
 },
 "nbformat": 4,
 "nbformat_minor": 5
}
