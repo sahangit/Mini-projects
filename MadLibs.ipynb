{
 "cells": [
  {
   "cell_type": "code",
   "execution_count": 1,
   "id": "9542b2b4",
   "metadata": {},
   "outputs": [],
   "source": [
    "import tkinter as tk"
   ]
  },
  {
   "cell_type": "code",
   "execution_count": null,
   "id": "ab53f09e",
   "metadata": {},
   "outputs": [],
   "source": [
    "window = tk.Tk()\n",
    "\n",
    "window.title(\"Welcome Sahan's Mad Lib Game\")\n",
    "\n",
    "window.geometry('350x200')\n",
    "\n",
    "lbl1 = tk.Label(window, text=\"1st Word\")\n",
    "lbl2 = tk.Label(window, text=\"2nd Word\")\n",
    "\n",
    "lbl1.grid(column=0, row=0)\n",
    "lbl2.grid(column=0,row=1)\n",
    "\n",
    "txt1 = tk.Entry(window,width=10)\n",
    "txt1.grid(column=1, row=0)\n",
    "\n",
    "txt2 = tk.Entry(window,width=10)\n",
    "txt2.grid(column=1,row=1)\n",
    "\n",
    "\n",
    "def story():\n",
    "    \n",
    "    global txt1\n",
    "    global txt2\n",
    "    \n",
    "    word1 = txt1.get()\n",
    "    word2 = txt2.get()\n",
    "    \n",
    "    \n",
    "    lbl3 = tk.Label(window, text=f\"{word1} had a {word2}\")\n",
    "    lbl3.grid(column=2,row = 3)\n",
    "    \n",
    "#     lbl.configure(text=f\"{txt1} sat on a {txt2}\")\n",
    "\n",
    "btn = tk.Button(window, text=\"Story\", command=story)\n",
    "\n",
    "btn.grid(column=2, row=0)\n",
    "\n",
    "window.mainloop()"
   ]
  },
  {
   "cell_type": "code",
   "execution_count": null,
   "id": "0f64023f",
   "metadata": {},
   "outputs": [],
   "source": []
  }
 ],
 "metadata": {
  "kernelspec": {
   "display_name": "Python 3",
   "language": "python",
   "name": "python3"
  },
  "language_info": {
   "codemirror_mode": {
    "name": "ipython",
    "version": 3
   },
   "file_extension": ".py",
   "mimetype": "text/x-python",
   "name": "python",
   "nbconvert_exporter": "python",
   "pygments_lexer": "ipython3",
   "version": "3.8.8"
  }
 },
 "nbformat": 4,
 "nbformat_minor": 5
}
