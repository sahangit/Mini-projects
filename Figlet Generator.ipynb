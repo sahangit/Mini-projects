{
 "cells": [
  {
   "cell_type": "code",
   "execution_count": 2,
   "id": "e226d923",
   "metadata": {},
   "outputs": [],
   "source": [
    "import pyfiglet"
   ]
  },
  {
   "cell_type": "code",
   "execution_count": 12,
   "id": "5d2f2530",
   "metadata": {},
   "outputs": [
    {
     "name": "stdout",
     "output_type": "stream",
     "text": [
      "Data Science\n"
     ]
    }
   ],
   "source": [
    "text = input()"
   ]
  },
  {
   "cell_type": "code",
   "execution_count": 13,
   "id": "3747d25f",
   "metadata": {},
   "outputs": [],
   "source": [
    "result = pyfiglet.figlet_format(text, font = 'slant')"
   ]
  },
  {
   "cell_type": "code",
   "execution_count": 14,
   "id": "eaa1c353",
   "metadata": {},
   "outputs": [
    {
     "name": "stdout",
     "output_type": "stream",
     "text": [
      "    ____        __           _____      _                    \n",
      "   / __ \\____ _/ /_____ _   / ___/_____(_)__  ____  ________ \n",
      "  / / / / __ `/ __/ __ `/   \\__ \\/ ___/ / _ \\/ __ \\/ ___/ _ \\\n",
      " / /_/ / /_/ / /_/ /_/ /   ___/ / /__/ /  __/ / / / /__/  __/\n",
      "/_____/\\__,_/\\__/\\__,_/   /____/\\___/_/\\___/_/ /_/\\___/\\___/ \n",
      "                                                             \n",
      "\n"
     ]
    }
   ],
   "source": [
    "print(result)"
   ]
  },
  {
   "cell_type": "code",
   "execution_count": null,
   "id": "7855b02c",
   "metadata": {},
   "outputs": [],
   "source": []
  }
 ],
 "metadata": {
  "kernelspec": {
   "display_name": "Python 3",
   "language": "python",
   "name": "python3"
  },
  "language_info": {
   "codemirror_mode": {
    "name": "ipython",
    "version": 3
   },
   "file_extension": ".py",
   "mimetype": "text/x-python",
   "name": "python",
   "nbconvert_exporter": "python",
   "pygments_lexer": "ipython3",
   "version": "3.8.8"
  }
 },
 "nbformat": 4,
 "nbformat_minor": 5
}
