{
 "cells": [
  {
   "cell_type": "markdown",
   "id": "ef86dd59",
   "metadata": {},
   "source": [
    "# Introduction.\n",
    "\n",
    "This program will play a music and stops at random intervals and starts again for a given number of loops."
   ]
  },
  {
   "cell_type": "markdown",
   "id": "3d09824b",
   "metadata": {},
   "source": [
    "### Importing necessary libraries and dependancies."
   ]
  },
  {
   "cell_type": "code",
   "execution_count": 55,
   "id": "ec97afd3",
   "metadata": {},
   "outputs": [],
   "source": [
    "from playsound import playsound\n",
    "import random\n",
    "import time\n",
    "import threading\n"
   ]
  },
  {
   "cell_type": "markdown",
   "id": "e8e9f12c",
   "metadata": {},
   "source": [
    "### Main thread & other threads"
   ]
  },
  {
   "cell_type": "code",
   "execution_count": 36,
   "id": "f7d50403",
   "metadata": {},
   "outputs": [
    {
     "name": "stdout",
     "output_type": "stream",
     "text": [
      "How many contenstants are there?5\n"
     ]
    }
   ],
   "source": [
    "# User inputs\n",
    "\n",
    "number_contestents = input('How many contenstants are there?')\n",
    "wait_time = input('How much time do you needed inbetween plays')\n",
    "\n",
    "number_loops = int(number_contestents) - 1\n",
    "\n",
    "play = 'no' # initializing the player to stop\n",
    "\n",
    "# player\n",
    "\n",
    "while play is 'yes':\n",
    "    playsound('audio.mp3')\n",
    "\n",
    "# schedular\n",
    "\n",
    "for i in range(number_loops):\n",
    "    sleep_time = random.randrange(25,50)\n",
    "    play = 'yes'\n",
    "    time.sleep(sleep_time)\n",
    "    play = 'no'\n",
    "    \n",
    "    if i == number_loops:\n",
    "        print('Game Over')\n",
    "        break\n",
    "    else: \n",
    "        print(f'Round no {i}')\n",
    "        pass\n",
    "\n",
    "# Stop thread 1 and 2\n",
    "\n"
   ]
  },
  {
   "cell_type": "code",
   "execution_count": null,
   "id": "95c24404",
   "metadata": {},
   "outputs": [],
   "source": []
  },
  {
   "cell_type": "code",
   "execution_count": null,
   "id": "adf195de",
   "metadata": {},
   "outputs": [],
   "source": []
  },
  {
   "cell_type": "code",
   "execution_count": null,
   "id": "a1aa0438",
   "metadata": {},
   "outputs": [],
   "source": []
  }
 ],
 "metadata": {
  "kernelspec": {
   "display_name": "Python 3",
   "language": "python",
   "name": "python3"
  },
  "language_info": {
   "codemirror_mode": {
    "name": "ipython",
    "version": 3
   },
   "file_extension": ".py",
   "mimetype": "text/x-python",
   "name": "python",
   "nbconvert_exporter": "python",
   "pygments_lexer": "ipython3",
   "version": "3.8.8"
  }
 },
 "nbformat": 4,
 "nbformat_minor": 5
}
