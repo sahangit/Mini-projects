{
 "cells": [
  {
   "cell_type": "code",
   "execution_count": 22,
   "id": "16843a6f",
   "metadata": {},
   "outputs": [],
   "source": [
    "import re\n",
    "\n",
    "string = 'Hello to python regex my dear friends this is my 1st practice session on Dec 11!'"
   ]
  },
  {
   "cell_type": "code",
   "execution_count": 23,
   "id": "d50255b4",
   "metadata": {},
   "outputs": [
    {
     "name": "stdout",
     "output_type": "stream",
     "text": [
      "['o', 'o', 'o', 'o', 'o']\n",
      "5\n"
     ]
    }
   ],
   "source": [
    "match = re.findall('o',string)\n",
    "print(match)\n",
    "print(len(match))"
   ]
  },
  {
   "cell_type": "code",
   "execution_count": 25,
   "id": "95885a6e",
   "metadata": {},
   "outputs": [
    {
     "name": "stdout",
     "output_type": "stream",
     "text": [
      "['1', '1', '1']\n",
      "3\n"
     ]
    }
   ],
   "source": [
    "match = re.findall('\\d',string)\n",
    "print(match)\n",
    "print(len(match))"
   ]
  },
  {
   "cell_type": "code",
   "execution_count": 26,
   "id": "354c48e0",
   "metadata": {},
   "outputs": [
    {
     "name": "stdout",
     "output_type": "stream",
     "text": [
      "['Hello', 'to', 'python', 'regex', 'my', 'dear', 'friends', 'this', 'is', 'my', '1st', 'practice', 'session', 'on', 'Dec', '11!']\n",
      "16\n"
     ]
    }
   ],
   "source": [
    "match = re.split(' ',string)\n",
    "print(match)\n",
    "print(len(match))"
   ]
  },
  {
   "cell_type": "code",
   "execution_count": null,
   "id": "094b1c42",
   "metadata": {},
   "outputs": [],
   "source": []
  }
 ],
 "metadata": {
  "kernelspec": {
   "display_name": "Python 3",
   "language": "python",
   "name": "python3"
  },
  "language_info": {
   "codemirror_mode": {
    "name": "ipython",
    "version": 3
   },
   "file_extension": ".py",
   "mimetype": "text/x-python",
   "name": "python",
   "nbconvert_exporter": "python",
   "pygments_lexer": "ipython3",
   "version": "3.8.8"
  }
 },
 "nbformat": 4,
 "nbformat_minor": 5
}
