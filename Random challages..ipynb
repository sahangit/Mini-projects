{
 "cells": [
  {
   "cell_type": "markdown",
   "id": "bf6641d1",
   "metadata": {},
   "source": [
    "#### Following list shows the closing values of a certain stocks in consecutive days. Find the maximum and minimum profit from the start and end"
   ]
  },
  {
   "cell_type": "code",
   "execution_count": 1,
   "id": "42f2061f",
   "metadata": {},
   "outputs": [],
   "source": [
    "stock_price = [23,24,26,24,22,21,22,19,23,25,27,30,30,28]"
   ]
  },
  {
   "cell_type": "code",
   "execution_count": 5,
   "id": "4d31af59",
   "metadata": {},
   "outputs": [
    {
     "name": "stdout",
     "output_type": "stream",
     "text": [
      "Maximum profit = 11\n",
      "Maximum loss = 7\n"
     ]
    }
   ],
   "source": [
    "minimum = stock_price[0]\n",
    "maximum = stock_price[0]\n",
    "\n",
    "max_profit = []\n",
    "max_loss = []\n",
    "\n",
    "for price in stock_price:\n",
    "    \n",
    "    if price < minimum:\n",
    "        minimum = price\n",
    "    \n",
    "    if price > maximum:\n",
    "        maximum = price\n",
    "        \n",
    "    max_profit.insert(1,price-minimum)\n",
    "    max_loss.insert(1, maximum - price)\n",
    "\n",
    "    \n",
    "print(f\"Maximum profit = {max(max_profit)}\")\n",
    "print(f\"Maximum loss = {max(max_loss)}\")\n",
    "    \n"
   ]
  },
  {
   "cell_type": "markdown",
   "id": "ae4796d5",
   "metadata": {},
   "source": [
    "#### Thousands separator\n",
    "Write a function named format_number that takes a non-negative number as its only parameter.\n",
    "\n",
    "Your function should convert the number to a string and add commas as a thousands separator."
   ]
  },
  {
   "cell_type": "code",
   "execution_count": 11,
   "id": "338583ff",
   "metadata": {},
   "outputs": [
    {
     "name": "stdout",
     "output_type": "stream",
     "text": [
      "<class 'str'>\n"
     ]
    }
   ],
   "source": [
    "number = 42232232\n",
    "\n",
    "number = str(number)\n",
    "\n",
    "\n"
   ]
  },
  {
   "cell_type": "code",
   "execution_count": 13,
   "id": "92d550fc",
   "metadata": {},
   "outputs": [
    {
     "name": "stdout",
     "output_type": "stream",
     "text": [
      "Help on method_descriptor:\n",
      "\n",
      "split(self, /, sep=None, maxsplit=-1)\n",
      "    Return a list of the words in the string, using sep as the delimiter string.\n",
      "    \n",
      "    sep\n",
      "      The delimiter according which to split the string.\n",
      "      None (the default value) means split according to any whitespace,\n",
      "      and discard empty strings from the result.\n",
      "    maxsplit\n",
      "      Maximum number of splits to do.\n",
      "      -1 (the default value) means no limit.\n",
      "\n"
     ]
    }
   ],
   "source": [
    "help(str.split)"
   ]
  },
  {
   "cell_type": "code",
   "execution_count": null,
   "id": "e2e0fc04",
   "metadata": {},
   "outputs": [],
   "source": []
  }
 ],
 "metadata": {
  "kernelspec": {
   "display_name": "Python 3",
   "language": "python",
   "name": "python3"
  },
  "language_info": {
   "codemirror_mode": {
    "name": "ipython",
    "version": 3
   },
   "file_extension": ".py",
   "mimetype": "text/x-python",
   "name": "python",
   "nbconvert_exporter": "python",
   "pygments_lexer": "ipython3",
   "version": "3.8.8"
  }
 },
 "nbformat": 4,
 "nbformat_minor": 5
}
