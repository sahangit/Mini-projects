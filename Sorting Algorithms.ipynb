{
 "cells": [
  {
   "cell_type": "markdown",
   "id": "60087be8",
   "metadata": {},
   "source": [
    "# Sorting algorithms"
   ]
  },
  {
   "cell_type": "markdown",
   "id": "953b23f1",
   "metadata": {},
   "source": [
    "### Bubble sort"
   ]
  },
  {
   "cell_type": "code",
   "execution_count": 9,
   "id": "f3a367f7",
   "metadata": {},
   "outputs": [],
   "source": [
    "def sort(nums):\n",
    "    for i in range(len(nums) -1 , 0 , -1):\n",
    "        for j in range(i):\n",
    "            if nums[j+1]<nums[j]:\n",
    "                temp = nums[j]\n",
    "                nums[j] = nums[j+1]\n",
    "                nums[j+1] = temp\n",
    "        print(nums)\n",
    "    "
   ]
  },
  {
   "cell_type": "code",
   "execution_count": 11,
   "id": "a07443ae",
   "metadata": {},
   "outputs": [
    {
     "name": "stdout",
     "output_type": "stream",
     "text": [
      "[1, 0, 3, 6, 9, 3, 8, 2, 9, -1, 25]\n",
      "[0, 1, 3, 6, 3, 8, 2, 9, -1, 9, 25]\n",
      "[0, 1, 3, 3, 6, 2, 8, -1, 9, 9, 25]\n",
      "[0, 1, 3, 3, 2, 6, -1, 8, 9, 9, 25]\n",
      "[0, 1, 3, 2, 3, -1, 6, 8, 9, 9, 25]\n",
      "[0, 1, 2, 3, -1, 3, 6, 8, 9, 9, 25]\n",
      "[0, 1, 2, -1, 3, 3, 6, 8, 9, 9, 25]\n",
      "[0, 1, -1, 2, 3, 3, 6, 8, 9, 9, 25]\n",
      "[0, -1, 1, 2, 3, 3, 6, 8, 9, 9, 25]\n",
      "[-1, 0, 1, 2, 3, 3, 6, 8, 9, 9, 25]\n",
      "[-1, 0, 1, 2, 3, 3, 6, 8, 9, 9, 25]\n"
     ]
    }
   ],
   "source": [
    "nums = [1,6,0,3,9,25,3,8,2,9,-1]\n",
    "sort(nums)\n",
    "print(nums)"
   ]
  },
  {
   "cell_type": "code",
   "execution_count": null,
   "id": "fc6ed588",
   "metadata": {},
   "outputs": [],
   "source": []
  }
 ],
 "metadata": {
  "kernelspec": {
   "display_name": "Python 3",
   "language": "python",
   "name": "python3"
  },
  "language_info": {
   "codemirror_mode": {
    "name": "ipython",
    "version": 3
   },
   "file_extension": ".py",
   "mimetype": "text/x-python",
   "name": "python",
   "nbconvert_exporter": "python",
   "pygments_lexer": "ipython3",
   "version": "3.8.8"
  }
 },
 "nbformat": 4,
 "nbformat_minor": 5
}
